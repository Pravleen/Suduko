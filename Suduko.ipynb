{
 "cells": [
  {
   "cell_type": "markdown",
   "metadata": {},
   "source": [
    "# SUDUKO SOLVER"
   ]
  },
  {
   "cell_type": "code",
   "execution_count": 41,
   "metadata": {},
   "outputs": [],
   "source": [
    "board = [\n",
    "    [5,0,0,0,4,0,0,0,0],\n",
    "    [0,0,0,6,0,3,2,0,9],\n",
    "    [7,0,0,0,0,0,0,0,6],\n",
    "    [0,0,0,0,1,4,6,0,0],\n",
    "    [0,7,0,0,0,0,0,9,0],\n",
    "    [0,0,6,8,3,0,0,0,0],\n",
    "    [3,0,0,0,0,0,0,0,7],\n",
    "    [1,0,9,7,0,8,0,0,0],\n",
    "    [0,0,0,0,5,0,0,0,8]\n",
    "]\n"
   ]
  },
  {
   "cell_type": "code",
   "execution_count": 42,
   "metadata": {},
   "outputs": [],
   "source": [
    "#Printing the board\n",
    "def print_board(bo):\n",
    "    for i in range(len(bo)):\n",
    "        if i % 3==0 and i!=0:\n",
    "            print(\"---------------------\")\n",
    "        for j in range(len(bo[0])):\n",
    "            if j%3==0:\n",
    "                print(\"|\",end=\"\")\n",
    "            if j==8:\n",
    "                print(str(bo[i][j])+\"|\")\n",
    "            else:\n",
    "                print(str(bo[i][j])+\" \",end=\"\")"
   ]
  },
  {
   "cell_type": "code",
   "execution_count": 43,
   "metadata": {},
   "outputs": [
    {
     "name": "stdout",
     "output_type": "stream",
     "text": [
      "|5 0 0 |0 4 0 |0 0 0|\n",
      "|0 0 0 |6 0 3 |2 0 9|\n",
      "|7 0 0 |0 0 0 |0 0 6|\n",
      "---------------------\n",
      "|0 0 0 |0 1 4 |6 0 0|\n",
      "|0 7 0 |0 0 0 |0 9 0|\n",
      "|0 0 6 |8 3 0 |0 0 0|\n",
      "---------------------\n",
      "|3 0 0 |0 0 0 |0 0 7|\n",
      "|1 0 9 |7 0 8 |0 0 0|\n",
      "|0 0 0 |0 5 0 |0 0 8|\n"
     ]
    }
   ],
   "source": [
    "print_board(board)"
   ]
  },
  {
   "cell_type": "code",
   "execution_count": 24,
   "metadata": {},
   "outputs": [],
   "source": [
    "#Find empty cell\n",
    "def find_empty(bo):\n",
    "    for i in range(len(bo)):\n",
    "        for j in range(len(bo[0])):\n",
    "            if(bo[i][j]==0):\n",
    "                return (i,j) #row,column\n",
    "    return None"
   ]
  },
  {
   "cell_type": "code",
   "execution_count": 22,
   "metadata": {},
   "outputs": [
    {
     "data": {
      "text/plain": [
       "(0, 2)"
      ]
     },
     "execution_count": 22,
     "metadata": {},
     "output_type": "execute_result"
    }
   ],
   "source": [
    "find_empty(board)\n"
   ]
  },
  {
   "cell_type": "code",
   "execution_count": 28,
   "metadata": {},
   "outputs": [],
   "source": [
    "#Check if board or number is valid or not\n",
    "def valid(bo,num,pos):\n",
    "    #Check row\n",
    "    for i in range(len(bo[0])):\n",
    "        if(bo[pos[0]][i]==num and pos[1]!=i):\n",
    "            return False\n",
    "    #Check Column\n",
    "    for i in range(len(bo)):\n",
    "        if(bo[i][pos[1]]==num and pos[0]!=i):\n",
    "            return False\n",
    "    #Check Block\n",
    "    box_x=pos[1]//3\n",
    "    box_y=pos[0]//3\n",
    "    for i in range(box_y*3,box_y*3+3):\n",
    "         for j in range(box_x*3,box_x*3+3):\n",
    "                if(bo[i][j]==num and (i,j)!=pos):\n",
    "                    return False\n",
    "    return True\n",
    "        \n",
    "    \n",
    "    "
   ]
  },
  {
   "cell_type": "code",
   "execution_count": 38,
   "metadata": {},
   "outputs": [],
   "source": [
    "#Solving suduko\n",
    "def solve(bo):\n",
    "    \n",
    "    find=find_empty(bo)\n",
    "    if not find:\n",
    "        return True\n",
    "    else:\n",
    "        row,col=find\n",
    "    for i in range(1,10):\n",
    "        if valid(bo,i,(row,col)):\n",
    "            bo[row][col]=i\n",
    "            \n",
    "            if solve(bo):\n",
    "                return True\n",
    "            bo[row][col]=0\n",
    "    return False"
   ]
  },
  {
   "cell_type": "code",
   "execution_count": 44,
   "metadata": {},
   "outputs": [
    {
     "data": {
      "text/plain": [
       "True"
      ]
     },
     "execution_count": 44,
     "metadata": {},
     "output_type": "execute_result"
    }
   ],
   "source": [
    "solve(board)"
   ]
  },
  {
   "cell_type": "code",
   "execution_count": 45,
   "metadata": {},
   "outputs": [
    {
     "name": "stdout",
     "output_type": "stream",
     "text": [
      "|5 6 3 |2 4 9 |7 8 1|\n",
      "|8 1 4 |6 7 3 |2 5 9|\n",
      "|7 9 2 |1 8 5 |3 4 6|\n",
      "---------------------\n",
      "|2 3 8 |9 1 4 |6 7 5|\n",
      "|4 7 1 |5 2 6 |8 9 3|\n",
      "|9 5 6 |8 3 7 |4 1 2|\n",
      "---------------------\n",
      "|3 8 5 |4 9 2 |1 6 7|\n",
      "|1 2 9 |7 6 8 |5 3 4|\n",
      "|6 4 7 |3 5 1 |9 2 8|\n"
     ]
    }
   ],
   "source": [
    "print_board(board)"
   ]
  },
  {
   "cell_type": "code",
   "execution_count": null,
   "metadata": {},
   "outputs": [],
   "source": []
  }
 ],
 "metadata": {
  "kernelspec": {
   "display_name": "Python 3",
   "language": "python",
   "name": "python3"
  },
  "language_info": {
   "codemirror_mode": {
    "name": "ipython",
    "version": 3
   },
   "file_extension": ".py",
   "mimetype": "text/x-python",
   "name": "python",
   "nbconvert_exporter": "python",
   "pygments_lexer": "ipython3",
   "version": "3.7.4"
  }
 },
 "nbformat": 4,
 "nbformat_minor": 2
}
